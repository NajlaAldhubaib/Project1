{
  "cells": [
    {
      "cell_type": "markdown",
      "id": "9ae4cc02",
      "metadata": {
        "id": "9ae4cc02"
      },
      "source": [
        "# Bagging Exercise\n",
        "\n",
        "In this exercise, you will explore the concept of Bagging (Bootstrap Aggregating) and implement it using a random forest model. Bagging is an ensemble technique mainly used for reducing the variance of a predictive model and preventing overfitting. The main idea behind bagging is to combine multiple learners in a way that the ensemble model performs better than an individual model.\n",
        "\n",
        "## Dataset\n",
        "We will use the Iris dataset for this exercise. The Iris dataset is a classic dataset from the field of machine learning, containing measurements for iris flowers of three different species. **Feel free to use another dataset!!**\n",
        "\n",
        "## Task\n",
        "Your task is to:\n",
        "1. Load the dataset.\n",
        "2. Preprocess the data (if necessary).\n",
        "3. Implement Bagging models.\n",
        "4. Evaluate the models performance.\n",
        "\n",
        "Please fill in the following code blocks to complete the exercise.\n"
      ]
    },
    {
      "cell_type": "code",
      "execution_count": 1,
      "id": "cd906704",
      "metadata": {
        "id": "cd906704"
      },
      "outputs": [],
      "source": [
        "import pandas as pd\n",
        "from sklearn.datasets import load_iris\n",
        "from sklearn.ensemble import RandomForestClassifier\n",
        "from sklearn.model_selection import train_test_split\n",
        "from sklearn.metrics import accuracy_score\n"
      ]
    },
    {
      "cell_type": "markdown",
      "id": "3bc0f20e",
      "metadata": {
        "id": "3bc0f20e"
      },
      "source": [
        "# Load the dataset\n"
      ]
    },
    {
      "cell_type": "code",
      "execution_count": 2,
      "id": "47ecb305",
      "metadata": {
        "id": "47ecb305"
      },
      "outputs": [],
      "source": [
        "iris = load_iris()\n",
        "df = pd.DataFrame(data=iris.data , columns=iris.feature_names)"
      ]
    },
    {
      "cell_type": "markdown",
      "id": "c0e69164",
      "metadata": {
        "id": "c0e69164"
      },
      "source": [
        "# Preprocess the data (if necessary)"
      ]
    },
    {
      "cell_type": "code",
      "execution_count": 3,
      "id": "1c56d9ea",
      "metadata": {
        "colab": {
          "base_uri": "https://localhost:8080/"
        },
        "id": "1c56d9ea",
        "outputId": "4b092c6e-f223-48b0-d4c9-04c57ac7568d"
      },
      "outputs": [
        {
          "output_type": "stream",
          "name": "stdout",
          "text": [
            "<class 'pandas.core.frame.DataFrame'>\n",
            "RangeIndex: 150 entries, 0 to 149\n",
            "Data columns (total 4 columns):\n",
            " #   Column             Non-Null Count  Dtype  \n",
            "---  ------             --------------  -----  \n",
            " 0   sepal length (cm)  150 non-null    float64\n",
            " 1   sepal width (cm)   150 non-null    float64\n",
            " 2   petal length (cm)  150 non-null    float64\n",
            " 3   petal width (cm)   150 non-null    float64\n",
            "dtypes: float64(4)\n",
            "memory usage: 4.8 KB\n"
          ]
        }
      ],
      "source": [
        "df.info()"
      ]
    },
    {
      "cell_type": "markdown",
      "id": "2104eb8e",
      "metadata": {
        "id": "2104eb8e"
      },
      "source": [
        "# Split the Dataset"
      ]
    },
    {
      "cell_type": "code",
      "source": [
        "X = df.drop('petal length (cm)', axis=1)\n",
        "y =pd.Series(iris.target)"
      ],
      "metadata": {
        "id": "qbv6iesKHWRz"
      },
      "id": "qbv6iesKHWRz",
      "execution_count": 8,
      "outputs": []
    },
    {
      "cell_type": "code",
      "execution_count": 9,
      "id": "f3a3d4e9",
      "metadata": {
        "id": "f3a3d4e9"
      },
      "outputs": [],
      "source": [
        "X_train, X_test, y_train, y_test = train_test_split(X, y, test_size=0.20, random_state=42)"
      ]
    },
    {
      "cell_type": "markdown",
      "id": "bdcb9a0a",
      "metadata": {
        "id": "bdcb9a0a"
      },
      "source": [
        "# Initialize and Train the Classifiers"
      ]
    },
    {
      "cell_type": "markdown",
      "id": "ea773220",
      "metadata": {
        "id": "ea773220"
      },
      "source": [
        "## Random Forest\n",
        "Initialize and train a Random Forest classifier."
      ]
    },
    {
      "cell_type": "code",
      "execution_count": 12,
      "id": "3e29fd42",
      "metadata": {
        "id": "3e29fd42"
      },
      "outputs": [],
      "source": [
        "\n",
        "# Initialize and train the Random Forest classifier\n",
        "random_forest_classifier = RandomForestClassifier(n_estimators=50, random_state=42)\n",
        "random_forest_classifier.fit(X_train, y_train)\n",
        "\n",
        "# Make predictions on the test data\n",
        "predictions = random_forest_classifier.predict(X_test)\n",
        "\n"
      ]
    },
    {
      "cell_type": "markdown",
      "id": "fb3a2438",
      "metadata": {
        "id": "fb3a2438"
      },
      "source": [
        "### Evaluate the model performance"
      ]
    },
    {
      "cell_type": "code",
      "execution_count": 13,
      "id": "38d965b4",
      "metadata": {
        "colab": {
          "base_uri": "https://localhost:8080/"
        },
        "id": "38d965b4",
        "outputId": "62c47053-ebc9-40fe-97f5-bfa47f8e0018"
      },
      "outputs": [
        {
          "output_type": "stream",
          "name": "stdout",
          "text": [
            "Random Forest Model Accuracy: 96.67%\n"
          ]
        }
      ],
      "source": [
        "# Evaluate the model's accuracy\n",
        "accuracy = accuracy_score(y_test, predictions)\n",
        "print(f'Random Forest Model Accuracy: {accuracy * 100:.2f}%')\n"
      ]
    },
    {
      "cell_type": "markdown",
      "id": "27ef4327",
      "metadata": {
        "id": "27ef4327"
      },
      "source": [
        "## Bagging Meta-estimator\n",
        "Initialize a K-Nearest Neighbors classifier and use it as the base estimator for the Bagging classifier."
      ]
    },
    {
      "cell_type": "code",
      "execution_count": 14,
      "id": "d3a43f7f",
      "metadata": {
        "id": "d3a43f7f"
      },
      "outputs": [],
      "source": [
        "from sklearn.neighbors import KNeighborsClassifier\n",
        "from sklearn.ensemble import BaggingClassifier, RandomForestClassifier\n",
        "\n",
        "# Initialize base classifier and Bagging Meta-estimator\n",
        "base_estimator = KNeighborsClassifier()\n",
        "bagging_classifier = BaggingClassifier(base_estimator, n_estimators=50, random_state=42)\n",
        "\n",
        "# Train the classifier on the training data\n",
        "bagging_classifier.fit(X_train, y_train)\n",
        "\n",
        "# Make predictions on the test data\n",
        "predictions = bagging_classifier.predict(X_test)\n",
        "\n"
      ]
    },
    {
      "cell_type": "markdown",
      "id": "1b8db1eb",
      "metadata": {
        "id": "1b8db1eb"
      },
      "source": [
        "### Evaluate the model performance"
      ]
    },
    {
      "cell_type": "code",
      "execution_count": 16,
      "id": "8697dc13",
      "metadata": {
        "colab": {
          "base_uri": "https://localhost:8080/"
        },
        "id": "8697dc13",
        "outputId": "101e9038-ece6-4859-c88a-f302c678445d"
      },
      "outputs": [
        {
          "output_type": "stream",
          "name": "stdout",
          "text": [
            "Bagging Classifier Model Accuracy: 96.67%\n"
          ]
        }
      ],
      "source": [
        "# Evaluate the model's accuracy\n",
        "accuracy = accuracy_score(y_test, predictions)\n",
        "print(f'Bagging Classifier Model Accuracy: {accuracy * 100:.2f}%')"
      ]
    },
    {
      "cell_type": "markdown",
      "id": "8768d05e",
      "metadata": {
        "id": "8768d05e"
      },
      "source": [
        "## Pasting\n",
        "Initialize a Decision Tree classifier and use it as the base estimator for a Bagging classifier with Pasting (without replacement)."
      ]
    },
    {
      "cell_type": "code",
      "source": [
        "from sklearn.tree import DecisionTreeClassifier"
      ],
      "metadata": {
        "id": "m12MOxAVOhaN"
      },
      "id": "m12MOxAVOhaN",
      "execution_count": 17,
      "outputs": []
    },
    {
      "cell_type": "code",
      "execution_count": 18,
      "id": "2ee558a9",
      "metadata": {
        "id": "2ee558a9"
      },
      "outputs": [],
      "source": [
        "# Initialize the base classifier and Bagging Meta-estimator with Pasting\n",
        "base_estimator = DecisionTreeClassifier()\n",
        "pasting_classifier = BaggingClassifier(base_estimator, n_estimators=50, max_samples=0.7, bootstrap=False, random_state=42)\n",
        "\n",
        "# Train the classifier on the training data\n",
        "pasting_classifier.fit(X_train, y_train)\n",
        "\n",
        "# Make predictions on the test data\n",
        "predictions = pasting_classifier.predict(X_test)\n"
      ]
    },
    {
      "cell_type": "markdown",
      "id": "4ff8b204",
      "metadata": {
        "id": "4ff8b204"
      },
      "source": [
        "### Evaluate the model performance"
      ]
    },
    {
      "cell_type": "code",
      "execution_count": 19,
      "id": "2fd5abd3",
      "metadata": {
        "colab": {
          "base_uri": "https://localhost:8080/"
        },
        "id": "2fd5abd3",
        "outputId": "6e53afde-9866-4ece-d3df-3f7966471639"
      },
      "outputs": [
        {
          "output_type": "stream",
          "name": "stdout",
          "text": [
            "Pasting Classifier Model Accuracy: 96.67%\n"
          ]
        }
      ],
      "source": [
        "\n",
        "# Evaluate the model's accuracy\n",
        "accuracy = accuracy_score(y_test, predictions)\n",
        "print(f'Pasting Classifier Model Accuracy: {accuracy * 100:.2f}%')"
      ]
    },
    {
      "cell_type": "markdown",
      "id": "1dcdb581",
      "metadata": {
        "id": "1dcdb581"
      },
      "source": [
        "## Roughly Balanced Bagging (RBB)\n",
        "Implement Roughly Balanced Bagging by manually creating balanced bootstrap samples and aggregating predictions from multiple Decision Tree classifiers."
      ]
    },
    {
      "cell_type": "code",
      "execution_count": 20,
      "id": "21309157",
      "metadata": {
        "id": "21309157"
      },
      "outputs": [],
      "source": [
        "import numpy as np\n",
        "\n",
        "# Number of base estimators\n",
        "n_estimators = 100\n",
        "\n",
        "# Initialize arrays to store the ensemble predictions and models\n",
        "ensemble_preds = np.zeros((n_estimators, len(X_test)))\n",
        "ensemble_models = []\n",
        "\n",
        "for i in range(n_estimators):\n",
        "    # Create a bootstrap sample, ensuring it's roughly balanced\n",
        "    pos_indices = np.where(y_train == 1)[0]\n",
        "    neg_indices = np.where(y_train == 0)[0]\n",
        "\n",
        "    chosen_pos_indices = np.random.choice(pos_indices, size=len(pos_indices), replace=True)\n",
        "    chosen_neg_indices = np.random.choice(neg_indices, size=len(pos_indices), replace=True)\n",
        "\n",
        "    balanced_sample_indices = np.concatenate([chosen_pos_indices, chosen_neg_indices])\n",
        "    np.random.shuffle(balanced_sample_indices)\n",
        "\n",
        "    X_train_balanced = X_train.iloc[balanced_sample_indices]\n",
        "    y_train_balanced = y_train.iloc[balanced_sample_indices]\n",
        "\n",
        "    # Train a decision tree classifier on the balanced bootstrap sample\n",
        "    tree_clf = DecisionTreeClassifier(random_state=i)\n",
        "    tree_clf.fit(X_train_balanced, y_train_balanced)\n",
        "    ensemble_models.append(tree_clf)\n",
        "\n",
        "    # Make predictions on the test set\n",
        "    ensemble_preds[i] = tree_clf.predict(X_test)\n",
        "\n",
        "# Majority voting across all estimators for the final prediction\n",
        "final_preds = np.round(np.mean(ensemble_preds, axis=0))\n",
        "\n",
        "\n"
      ]
    },
    {
      "cell_type": "markdown",
      "id": "ee97138e",
      "metadata": {
        "id": "ee97138e"
      },
      "source": [
        "### Evaluate the model performance"
      ]
    },
    {
      "cell_type": "code",
      "execution_count": 21,
      "id": "c3726ae5",
      "metadata": {
        "colab": {
          "base_uri": "https://localhost:8080/"
        },
        "id": "c3726ae5",
        "outputId": "3cc0f0f0-e94e-4923-daeb-6c8693be41fb"
      },
      "outputs": [
        {
          "output_type": "stream",
          "name": "stdout",
          "text": [
            "Roughly Balanced Bagging Model Accuracy: 0.63\n"
          ]
        }
      ],
      "source": [
        "# Calculate accuracy\n",
        "accuracy = accuracy_score(y_test, final_preds)\n",
        "print(f'Roughly Balanced Bagging Model Accuracy: {accuracy:.2f}')"
      ]
    },
    {
      "cell_type": "code",
      "source": [],
      "metadata": {
        "id": "7HHtd2BOPAPP"
      },
      "id": "7HHtd2BOPAPP",
      "execution_count": 21,
      "outputs": []
    }
  ],
  "metadata": {
    "language_info": {
      "name": "python"
    },
    "colab": {
      "provenance": []
    },
    "kernelspec": {
      "name": "python3",
      "display_name": "Python 3"
    }
  },
  "nbformat": 4,
  "nbformat_minor": 5
}